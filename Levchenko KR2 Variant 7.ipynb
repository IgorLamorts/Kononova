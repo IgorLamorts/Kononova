{
 "cells": [
  {
   "cell_type": "code",
   "execution_count": 4,
   "id": "75cb5c95",
   "metadata": {},
   "outputs": [
    {
     "ename": "ModuleNotFoundError",
     "evalue": "No module named 'catboost'",
     "output_type": "error",
     "traceback": [
      "\u001b[0;31m---------------------------------------------------------------------------\u001b[0m",
      "\u001b[0;31mModuleNotFoundError\u001b[0m                       Traceback (most recent call last)",
      "\u001b[0;32m/var/folders/qf/q8spm_xn199b4sc6tfbj0ftw0000gn/T/ipykernel_2383/1533373599.py\u001b[0m in \u001b[0;36m<module>\u001b[0;34m\u001b[0m\n\u001b[1;32m     10\u001b[0m \u001b[0;32mimport\u001b[0m \u001b[0mmatplotlib\u001b[0m\u001b[0;34m.\u001b[0m\u001b[0mpyplot\u001b[0m \u001b[0;32mas\u001b[0m \u001b[0mplt\u001b[0m\u001b[0;34m\u001b[0m\u001b[0;34m\u001b[0m\u001b[0m\n\u001b[1;32m     11\u001b[0m \u001b[0;32mfrom\u001b[0m \u001b[0msklearn\u001b[0m\u001b[0;34m.\u001b[0m\u001b[0mmodel_selection\u001b[0m \u001b[0;32mimport\u001b[0m \u001b[0mtrain_test_split\u001b[0m\u001b[0;34m\u001b[0m\u001b[0;34m\u001b[0m\u001b[0m\n\u001b[0;32m---> 12\u001b[0;31m \u001b[0;32mimport\u001b[0m \u001b[0mcatboost\u001b[0m\u001b[0;34m\u001b[0m\u001b[0;34m\u001b[0m\u001b[0m\n\u001b[0m",
      "\u001b[0;31mModuleNotFoundError\u001b[0m: No module named 'catboost'"
     ]
    }
   ],
   "source": [
    "#ignore warnings\n",
    "import warnings\n",
    "warnings.filterwarnings('ignore')\n",
    "\n",
    "# Importing the libraries\n",
    "import pandas as pd\n",
    "import numpy as np\n",
    "import os\n",
    "import seaborn as sns\n",
    "import matplotlib.pyplot as plt\n",
    "from sklearn.model_selection import train_test_split\n",
    "import catboost\n"
   ]
  },
  {
   "cell_type": "code",
   "execution_count": 2,
   "id": "2893fdc5",
   "metadata": {},
   "outputs": [
    {
     "name": "stdout",
     "output_type": "stream",
     "text": [
      "Collecting catboost\n",
      "  Downloading catboost-1.0.3-cp39-none-macosx_10_6_intel.macosx_10_9_intel.macosx_10_9_x86_64.macosx_10_10_intel.macosx_10_10_x86_64.whl (12.9 MB)\n",
      "\u001b[K     |████████████████████████████████| 12.9 MB 1.9 MB/s eta 0:00:01\n",
      "\u001b[?25hCollecting plotly\n",
      "  Downloading plotly-5.5.0-py2.py3-none-any.whl (26.5 MB)\n",
      "\u001b[K     |████████████████████████████████| 26.5 MB 1.2 MB/s eta 0:00:01\n",
      "\u001b[?25hCollecting graphviz\n",
      "  Downloading graphviz-0.19.1-py3-none-any.whl (46 kB)\n",
      "\u001b[K     |████████████████████████████████| 46 kB 1.9 MB/s eta 0:00:01\n",
      "\u001b[?25hRequirement already satisfied: numpy>=1.16.0 in /opt/anaconda3/lib/python3.9/site-packages (from catboost) (1.20.3)\n",
      "Requirement already satisfied: scipy in /opt/anaconda3/lib/python3.9/site-packages (from catboost) (1.7.1)\n",
      "Requirement already satisfied: matplotlib in /opt/anaconda3/lib/python3.9/site-packages (from catboost) (3.4.3)\n",
      "Requirement already satisfied: pandas>=0.24.0 in /opt/anaconda3/lib/python3.9/site-packages (from catboost) (1.3.4)\n",
      "Requirement already satisfied: six in /opt/anaconda3/lib/python3.9/site-packages (from catboost) (1.16.0)\n",
      "Requirement already satisfied: python-dateutil>=2.7.3 in /opt/anaconda3/lib/python3.9/site-packages (from pandas>=0.24.0->catboost) (2.8.2)\n",
      "Requirement already satisfied: pytz>=2017.3 in /opt/anaconda3/lib/python3.9/site-packages (from pandas>=0.24.0->catboost) (2021.3)\n",
      "Requirement already satisfied: cycler>=0.10 in /opt/anaconda3/lib/python3.9/site-packages (from matplotlib->catboost) (0.10.0)\n",
      "Requirement already satisfied: pyparsing>=2.2.1 in /opt/anaconda3/lib/python3.9/site-packages (from matplotlib->catboost) (3.0.4)\n",
      "Requirement already satisfied: kiwisolver>=1.0.1 in /opt/anaconda3/lib/python3.9/site-packages (from matplotlib->catboost) (1.3.1)\n",
      "Requirement already satisfied: pillow>=6.2.0 in /opt/anaconda3/lib/python3.9/site-packages (from matplotlib->catboost) (8.4.0)\n",
      "Collecting tenacity>=6.2.0\n",
      "  Downloading tenacity-8.0.1-py3-none-any.whl (24 kB)\n",
      "Installing collected packages: tenacity, plotly, graphviz, catboost\n",
      "Successfully installed catboost-1.0.3 graphviz-0.19.1 plotly-5.5.0 tenacity-8.0.1\n",
      "Note: you may need to restart the kernel to use updated packages.\n"
     ]
    }
   ],
   "source": [
    "pip install catboost\n"
   ]
  },
  {
   "cell_type": "code",
   "execution_count": 3,
   "id": "e749611b",
   "metadata": {},
   "outputs": [],
   "source": [
    "import pandas as pd\n",
    "import numpy as np\n",
    "import os\n",
    "import seaborn as sns\n",
    "import matplotlib.pyplot as plt\n",
    "from sklearn.model_selection import train_test_split\n",
    "import catboost"
   ]
  },
  {
   "cell_type": "code",
   "execution_count": 4,
   "id": "d13422b3",
   "metadata": {},
   "outputs": [
    {
     "data": {
      "text/html": [
       "<div>\n",
       "<style scoped>\n",
       "    .dataframe tbody tr th:only-of-type {\n",
       "        vertical-align: middle;\n",
       "    }\n",
       "\n",
       "    .dataframe tbody tr th {\n",
       "        vertical-align: top;\n",
       "    }\n",
       "\n",
       "    .dataframe thead th {\n",
       "        text-align: right;\n",
       "    }\n",
       "</style>\n",
       "<table border=\"1\" class=\"dataframe\">\n",
       "  <thead>\n",
       "    <tr style=\"text-align: right;\">\n",
       "      <th></th>\n",
       "      <th>Успех</th>\n",
       "      <th>Площадь загальна кв.м</th>\n",
       "      <th>Этаж</th>\n",
       "      <th>Количество касс</th>\n",
       "      <th>Тип</th>\n",
       "      <th>Кількість відгуків в гуглі</th>\n",
       "      <th>Количество чеков</th>\n",
       "      <th>Среднее количество единиц в чеке</th>\n",
       "      <th>Середній дохід населення</th>\n",
       "      <th>Населення середнє</th>\n",
       "      <th>Прогулянкова зона</th>\n",
       "      <th>Якість покриття перед магазином</th>\n",
       "      <th>Стихійна торгівля</th>\n",
       "      <th>Зона пікніка</th>\n",
       "      <th>Церква</th>\n",
       "    </tr>\n",
       "  </thead>\n",
       "  <tbody>\n",
       "    <tr>\n",
       "      <th>0</th>\n",
       "      <td>не успішний</td>\n",
       "      <td>9.0</td>\n",
       "      <td>1</td>\n",
       "      <td>1</td>\n",
       "      <td>Light</td>\n",
       "      <td>NaN</td>\n",
       "      <td>659.0</td>\n",
       "      <td>1.56</td>\n",
       "      <td>15610.0</td>\n",
       "      <td>11298.0</td>\n",
       "      <td>0</td>\n",
       "      <td>0</td>\n",
       "      <td>0</td>\n",
       "      <td>0</td>\n",
       "      <td>1</td>\n",
       "    </tr>\n",
       "    <tr>\n",
       "      <th>1</th>\n",
       "      <td>не успішний</td>\n",
       "      <td>30.0</td>\n",
       "      <td>1</td>\n",
       "      <td>1</td>\n",
       "      <td>Light</td>\n",
       "      <td>8.0</td>\n",
       "      <td>1518.0</td>\n",
       "      <td>2.03</td>\n",
       "      <td>12600.0</td>\n",
       "      <td>18903.0</td>\n",
       "      <td>0</td>\n",
       "      <td>0</td>\n",
       "      <td>0</td>\n",
       "      <td>0</td>\n",
       "      <td>0</td>\n",
       "    </tr>\n",
       "    <tr>\n",
       "      <th>2</th>\n",
       "      <td>не успішний</td>\n",
       "      <td>15.0</td>\n",
       "      <td>1</td>\n",
       "      <td>1</td>\n",
       "      <td>light</td>\n",
       "      <td>NaN</td>\n",
       "      <td>476.0</td>\n",
       "      <td>1.81</td>\n",
       "      <td>12600.0</td>\n",
       "      <td>20252.0</td>\n",
       "      <td>0</td>\n",
       "      <td>0</td>\n",
       "      <td>0</td>\n",
       "      <td>0</td>\n",
       "      <td>0</td>\n",
       "    </tr>\n",
       "    <tr>\n",
       "      <th>3</th>\n",
       "      <td>не успішний</td>\n",
       "      <td>20.0</td>\n",
       "      <td>1</td>\n",
       "      <td>1</td>\n",
       "      <td>light</td>\n",
       "      <td>NaN</td>\n",
       "      <td>1310.0</td>\n",
       "      <td>2.18</td>\n",
       "      <td>13930.0</td>\n",
       "      <td>2540.0</td>\n",
       "      <td>0</td>\n",
       "      <td>0</td>\n",
       "      <td>0</td>\n",
       "      <td>0</td>\n",
       "      <td>0</td>\n",
       "    </tr>\n",
       "    <tr>\n",
       "      <th>4</th>\n",
       "      <td>не успішний</td>\n",
       "      <td>30.0</td>\n",
       "      <td>1</td>\n",
       "      <td>1</td>\n",
       "      <td>light</td>\n",
       "      <td>NaN</td>\n",
       "      <td>2029.0</td>\n",
       "      <td>1.63</td>\n",
       "      <td>16030.0</td>\n",
       "      <td>6896.0</td>\n",
       "      <td>0</td>\n",
       "      <td>0</td>\n",
       "      <td>0</td>\n",
       "      <td>0</td>\n",
       "      <td>0</td>\n",
       "    </tr>\n",
       "  </tbody>\n",
       "</table>\n",
       "</div>"
      ],
      "text/plain": [
       "         Успех  Площадь загальна кв.м  Этаж  Количество касс    Тип  \\\n",
       "0  не успішний                    9.0     1                1  Light   \n",
       "1  не успішний                   30.0     1                1  Light   \n",
       "2  не успішний                   15.0     1                1  light   \n",
       "3  не успішний                   20.0     1                1  light   \n",
       "4  не успішний                   30.0     1                1  light   \n",
       "\n",
       "   Кількість відгуків в гуглі  Количество чеков  \\\n",
       "0                         NaN             659.0   \n",
       "1                         8.0            1518.0   \n",
       "2                         NaN             476.0   \n",
       "3                         NaN            1310.0   \n",
       "4                         NaN            2029.0   \n",
       "\n",
       "   Среднее количество единиц в чеке  Середній дохід населення  \\\n",
       "0                              1.56                   15610.0   \n",
       "1                              2.03                   12600.0   \n",
       "2                              1.81                   12600.0   \n",
       "3                              2.18                   13930.0   \n",
       "4                              1.63                   16030.0   \n",
       "\n",
       "   Населення середнє  Прогулянкова зона  Якість покриття перед магазином  \\\n",
       "0            11298.0                  0                                0   \n",
       "1            18903.0                  0                                0   \n",
       "2            20252.0                  0                                0   \n",
       "3             2540.0                  0                                0   \n",
       "4             6896.0                  0                                0   \n",
       "\n",
       "   Стихійна торгівля  Зона пікніка  Церква  \n",
       "0                  0             0       1  \n",
       "1                  0             0       0  \n",
       "2                  0             0       0  \n",
       "3                  0             0       0  \n",
       "4                  0             0       0  "
      ]
     },
     "execution_count": 4,
     "metadata": {},
     "output_type": "execute_result"
    }
   ],
   "source": [
    "df = pd.read_excel(\"Variant777.xlsx\", engine='openpyxl')\n",
    "df.head()"
   ]
  },
  {
   "cell_type": "code",
   "execution_count": 5,
   "id": "75349e9c",
   "metadata": {},
   "outputs": [
    {
     "name": "stdout",
     "output_type": "stream",
     "text": [
      "<class 'pandas.core.frame.DataFrame'>\n",
      "RangeIndex: 69 entries, 0 to 68\n",
      "Data columns (total 15 columns):\n",
      " #   Column                            Non-Null Count  Dtype  \n",
      "---  ------                            --------------  -----  \n",
      " 0   Успех                             69 non-null     object \n",
      " 1   Площадь загальна кв.м             69 non-null     float64\n",
      " 2   Этаж                              69 non-null     int64  \n",
      " 3   Количество касс                   69 non-null     int64  \n",
      " 4   Тип                               69 non-null     object \n",
      " 5   Кількість відгуків в гуглі        39 non-null     float64\n",
      " 6   Количество чеков                  62 non-null     float64\n",
      " 7   Среднее количество единиц в чеке  62 non-null     float64\n",
      " 8   Середній дохід населення          64 non-null     float64\n",
      " 9   Населення середнє                 64 non-null     float64\n",
      " 10  Прогулянкова зона                 69 non-null     int64  \n",
      " 11  Якість покриття перед магазином   69 non-null     int64  \n",
      " 12  Стихійна торгівля                 69 non-null     int64  \n",
      " 13  Зона пікніка                      69 non-null     int64  \n",
      " 14  Церква                            69 non-null     int64  \n",
      "dtypes: float64(6), int64(7), object(2)\n",
      "memory usage: 8.2+ KB\n"
     ]
    }
   ],
   "source": [
    "df.info()"
   ]
  },
  {
   "cell_type": "markdown",
   "id": "9be2697d",
   "metadata": {},
   "source": [
    "# null values"
   ]
  },
  {
   "cell_type": "code",
   "execution_count": 6,
   "id": "58afc5de",
   "metadata": {},
   "outputs": [
    {
     "data": {
      "image/png": "[encoded data removed]",
      "text/plain": [
       "<Figure size 432x288 with 1 Axes>"
      ]
     },
     "metadata": {
      "needs_background": "light"
     },
     "output_type": "display_data"
    }
   ],
   "source": [
    "fig = plt.figure()\n",
    "ax = fig.add_axes([0, 0, 0.5, 0.5])\n",
    "missings = pd.DataFrame(df.isnull().sum())\n",
    "vars_with_missings = missings[missings > 1].dropna().index.tolist()\n",
    "sns.heatmap(df[vars_with_missings].isnull(),\n",
    "            cbar=False, yticklabels=False, cmap='inferno', ax=ax)\n",
    "plt.show()"
   ]
  },
  {
   "cell_type": "markdown",
   "id": "0cfbede5",
   "metadata": {},
   "source": [
    "#Заполним недостающие значения средним значением"
   ]
  },
  {
   "cell_type": "code",
   "execution_count": 7,
   "id": "adbdc607",
   "metadata": {},
   "outputs": [
    {
     "data": {
      "image/png": "[encoded data removed]",
      "text/plain": [
       "<Figure size 432x288 with 1 Axes>"
      ]
     },
     "metadata": {
      "needs_background": "light"
     },
     "output_type": "display_data"
    }
   ],
   "source": [
    "df['Количество чеков'] = df['Количество чеков'].fillna(df['Количество чеков'].mean())\n",
    "df['Среднее количество единиц в чеке'] = df['Среднее количество единиц в чеке'].fillna(df['Среднее количество единиц в чеке'].mean())\n",
    "df['Населення середнє'] = df['Населення середнє'].fillna(df['Населення середнє'].mean())\n",
    "df['Середній дохід населення'] = df['Середній дохід населення'].fillna(df['Середній дохід населення'].mean())\n",
    "fig = plt.figure()\n",
    "ax = fig.add_axes([0, 0, 0.5, 0.5])\n",
    "missings = pd.DataFrame(df.isnull().sum())\n",
    "vars_with_missings = missings[missings > 1].dropna().index.tolist()\n",
    "sns.heatmap(df[vars_with_missings].isnull(),\n",
    "            cbar=False, yticklabels=False, cmap='inferno', ax=ax)\n",
    "plt.show()"
   ]
  },
  {
   "cell_type": "markdown",
   "id": "ee471f0a",
   "metadata": {},
   "source": [
    "Мы не будем использывать информацию о количестве отзывов в гугле так как у нас очень много неизвестных данных."
   ]
  },
  {
   "cell_type": "code",
   "execution_count": 8,
   "id": "afaef2ad",
   "metadata": {},
   "outputs": [
    {
     "data": {
      "text/html": [
       "<div>\n",
       "<style scoped>\n",
       "    .dataframe tbody tr th:only-of-type {\n",
       "        vertical-align: middle;\n",
       "    }\n",
       "\n",
       "    .dataframe tbody tr th {\n",
       "        vertical-align: top;\n",
       "    }\n",
       "\n",
       "    .dataframe thead th {\n",
       "        text-align: right;\n",
       "    }\n",
       "</style>\n",
       "<table border=\"1\" class=\"dataframe\">\n",
       "  <thead>\n",
       "    <tr style=\"text-align: right;\">\n",
       "      <th></th>\n",
       "      <th>Успех</th>\n",
       "      <th>Площадь загальна кв.м</th>\n",
       "      <th>Этаж</th>\n",
       "      <th>Количество касс</th>\n",
       "      <th>Тип</th>\n",
       "      <th>Количество чеков</th>\n",
       "      <th>Среднее количество единиц в чеке</th>\n",
       "      <th>Середній дохід населення</th>\n",
       "      <th>Населення середнє</th>\n",
       "      <th>Прогулянкова зона</th>\n",
       "      <th>Якість покриття перед магазином</th>\n",
       "      <th>Стихійна торгівля</th>\n",
       "      <th>Зона пікніка</th>\n",
       "      <th>Церква</th>\n",
       "    </tr>\n",
       "  </thead>\n",
       "  <tbody>\n",
       "    <tr>\n",
       "      <th>0</th>\n",
       "      <td>не успішний</td>\n",
       "      <td>9.00</td>\n",
       "      <td>1</td>\n",
       "      <td>1</td>\n",
       "      <td>Light</td>\n",
       "      <td>659.0</td>\n",
       "      <td>1.56</td>\n",
       "      <td>15610.0</td>\n",
       "      <td>11298.0</td>\n",
       "      <td>0</td>\n",
       "      <td>0</td>\n",
       "      <td>0</td>\n",
       "      <td>0</td>\n",
       "      <td>1</td>\n",
       "    </tr>\n",
       "    <tr>\n",
       "      <th>1</th>\n",
       "      <td>не успішний</td>\n",
       "      <td>30.00</td>\n",
       "      <td>1</td>\n",
       "      <td>1</td>\n",
       "      <td>Light</td>\n",
       "      <td>1518.0</td>\n",
       "      <td>2.03</td>\n",
       "      <td>12600.0</td>\n",
       "      <td>18903.0</td>\n",
       "      <td>0</td>\n",
       "      <td>0</td>\n",
       "      <td>0</td>\n",
       "      <td>0</td>\n",
       "      <td>0</td>\n",
       "    </tr>\n",
       "    <tr>\n",
       "      <th>2</th>\n",
       "      <td>не успішний</td>\n",
       "      <td>15.00</td>\n",
       "      <td>1</td>\n",
       "      <td>1</td>\n",
       "      <td>light</td>\n",
       "      <td>476.0</td>\n",
       "      <td>1.81</td>\n",
       "      <td>12600.0</td>\n",
       "      <td>20252.0</td>\n",
       "      <td>0</td>\n",
       "      <td>0</td>\n",
       "      <td>0</td>\n",
       "      <td>0</td>\n",
       "      <td>0</td>\n",
       "    </tr>\n",
       "    <tr>\n",
       "      <th>3</th>\n",
       "      <td>не успішний</td>\n",
       "      <td>20.00</td>\n",
       "      <td>1</td>\n",
       "      <td>1</td>\n",
       "      <td>light</td>\n",
       "      <td>1310.0</td>\n",
       "      <td>2.18</td>\n",
       "      <td>13930.0</td>\n",
       "      <td>2540.0</td>\n",
       "      <td>0</td>\n",
       "      <td>0</td>\n",
       "      <td>0</td>\n",
       "      <td>0</td>\n",
       "      <td>0</td>\n",
       "    </tr>\n",
       "    <tr>\n",
       "      <th>4</th>\n",
       "      <td>не успішний</td>\n",
       "      <td>30.00</td>\n",
       "      <td>1</td>\n",
       "      <td>1</td>\n",
       "      <td>light</td>\n",
       "      <td>2029.0</td>\n",
       "      <td>1.63</td>\n",
       "      <td>16030.0</td>\n",
       "      <td>6896.0</td>\n",
       "      <td>0</td>\n",
       "      <td>0</td>\n",
       "      <td>0</td>\n",
       "      <td>0</td>\n",
       "      <td>0</td>\n",
       "    </tr>\n",
       "    <tr>\n",
       "      <th>...</th>\n",
       "      <td>...</td>\n",
       "      <td>...</td>\n",
       "      <td>...</td>\n",
       "      <td>...</td>\n",
       "      <td>...</td>\n",
       "      <td>...</td>\n",
       "      <td>...</td>\n",
       "      <td>...</td>\n",
       "      <td>...</td>\n",
       "      <td>...</td>\n",
       "      <td>...</td>\n",
       "      <td>...</td>\n",
       "      <td>...</td>\n",
       "      <td>...</td>\n",
       "    </tr>\n",
       "    <tr>\n",
       "      <th>64</th>\n",
       "      <td>успішний</td>\n",
       "      <td>51.77</td>\n",
       "      <td>1</td>\n",
       "      <td>2</td>\n",
       "      <td>Standart</td>\n",
       "      <td>6884.0</td>\n",
       "      <td>1.89</td>\n",
       "      <td>8750.0</td>\n",
       "      <td>42781.0</td>\n",
       "      <td>0</td>\n",
       "      <td>0</td>\n",
       "      <td>0</td>\n",
       "      <td>0</td>\n",
       "      <td>0</td>\n",
       "    </tr>\n",
       "    <tr>\n",
       "      <th>65</th>\n",
       "      <td>успішний</td>\n",
       "      <td>27.26</td>\n",
       "      <td>1</td>\n",
       "      <td>1</td>\n",
       "      <td>Light</td>\n",
       "      <td>4721.0</td>\n",
       "      <td>1.85</td>\n",
       "      <td>13300.0</td>\n",
       "      <td>32400.0</td>\n",
       "      <td>0</td>\n",
       "      <td>0</td>\n",
       "      <td>0</td>\n",
       "      <td>0</td>\n",
       "      <td>0</td>\n",
       "    </tr>\n",
       "    <tr>\n",
       "      <th>66</th>\n",
       "      <td>не успішний</td>\n",
       "      <td>148.91</td>\n",
       "      <td>1</td>\n",
       "      <td>1</td>\n",
       "      <td>Light</td>\n",
       "      <td>3286.0</td>\n",
       "      <td>1.99</td>\n",
       "      <td>11060.0</td>\n",
       "      <td>29287.0</td>\n",
       "      <td>1</td>\n",
       "      <td>0</td>\n",
       "      <td>0</td>\n",
       "      <td>0</td>\n",
       "      <td>0</td>\n",
       "    </tr>\n",
       "    <tr>\n",
       "      <th>67</th>\n",
       "      <td>не успішний</td>\n",
       "      <td>50.93</td>\n",
       "      <td>1</td>\n",
       "      <td>2</td>\n",
       "      <td>Standart</td>\n",
       "      <td>3963.0</td>\n",
       "      <td>1.73</td>\n",
       "      <td>11900.0</td>\n",
       "      <td>5705.0</td>\n",
       "      <td>0</td>\n",
       "      <td>0</td>\n",
       "      <td>0</td>\n",
       "      <td>0</td>\n",
       "      <td>0</td>\n",
       "    </tr>\n",
       "    <tr>\n",
       "      <th>68</th>\n",
       "      <td>успішний</td>\n",
       "      <td>30.00</td>\n",
       "      <td>1</td>\n",
       "      <td>1</td>\n",
       "      <td>light</td>\n",
       "      <td>4200.0</td>\n",
       "      <td>2.13</td>\n",
       "      <td>11060.0</td>\n",
       "      <td>11085.0</td>\n",
       "      <td>0</td>\n",
       "      <td>0</td>\n",
       "      <td>0</td>\n",
       "      <td>0</td>\n",
       "      <td>0</td>\n",
       "    </tr>\n",
       "  </tbody>\n",
       "</table>\n",
       "<p>69 rows × 14 columns</p>\n",
       "</div>"
      ],
      "text/plain": [
       "          Успех  Площадь загальна кв.м  Этаж  Количество касс       Тип  \\\n",
       "0   не успішний                   9.00     1                1     Light   \n",
       "1   не успішний                  30.00     1                1     Light   \n",
       "2   не успішний                  15.00     1                1     light   \n",
       "3   не успішний                  20.00     1                1     light   \n",
       "4   не успішний                  30.00     1                1     light   \n",
       "..          ...                    ...   ...              ...       ...   \n",
       "64     успішний                  51.77     1                2  Standart   \n",
       "65     успішний                  27.26     1                1     Light   \n",
       "66  не успішний                 148.91     1                1     Light   \n",
       "67  не успішний                  50.93     1                2  Standart   \n",
       "68     успішний                  30.00     1                1     light   \n",
       "\n",
       "    Количество чеков  Среднее количество единиц в чеке  \\\n",
       "0              659.0                              1.56   \n",
       "1             1518.0                              2.03   \n",
       "2              476.0                              1.81   \n",
       "3             1310.0                              2.18   \n",
       "4             2029.0                              1.63   \n",
       "..               ...                               ...   \n",
       "64            6884.0                              1.89   \n",
       "65            4721.0                              1.85   \n",
       "66            3286.0                              1.99   \n",
       "67            3963.0                              1.73   \n",
       "68            4200.0                              2.13   \n",
       "\n",
       "    Середній дохід населення  Населення середнє  Прогулянкова зона  \\\n",
       "0                    15610.0            11298.0                  0   \n",
       "1                    12600.0            18903.0                  0   \n",
       "2                    12600.0            20252.0                  0   \n",
       "3                    13930.0             2540.0                  0   \n",
       "4                    16030.0             6896.0                  0   \n",
       "..                       ...                ...                ...   \n",
       "64                    8750.0            42781.0                  0   \n",
       "65                   13300.0            32400.0                  0   \n",
       "66                   11060.0            29287.0                  1   \n",
       "67                   11900.0             5705.0                  0   \n",
       "68                   11060.0            11085.0                  0   \n",
       "\n",
       "    Якість покриття перед магазином  Стихійна торгівля  Зона пікніка  Церква  \n",
       "0                                 0                  0             0       1  \n",
       "1                                 0                  0             0       0  \n",
       "2                                 0                  0             0       0  \n",
       "3                                 0                  0             0       0  \n",
       "4                                 0                  0             0       0  \n",
       "..                              ...                ...           ...     ...  \n",
       "64                                0                  0             0       0  \n",
       "65                                0                  0             0       0  \n",
       "66                                0                  0             0       0  \n",
       "67                                0                  0             0       0  \n",
       "68                                0                  0             0       0  \n",
       "\n",
       "[69 rows x 14 columns]"
      ]
     },
     "execution_count": 8,
     "metadata": {},
     "output_type": "execute_result"
    }
   ],
   "source": [
    "df = df.drop(columns=['Кількість відгуків в гуглі'])\n",
    "df"
   ]
  },
  {
   "cell_type": "code",
   "execution_count": 9,
   "id": "f1fd2a8d",
   "metadata": {},
   "outputs": [
    {
     "name": "stdout",
     "output_type": "stream",
     "text": [
      "<class 'pandas.core.frame.DataFrame'>\n",
      "RangeIndex: 69 entries, 0 to 68\n",
      "Data columns (total 14 columns):\n",
      " #   Column                            Non-Null Count  Dtype  \n",
      "---  ------                            --------------  -----  \n",
      " 0   Успех                             69 non-null     object \n",
      " 1   Площадь загальна кв.м             69 non-null     float64\n",
      " 2   Этаж                              69 non-null     int64  \n",
      " 3   Количество касс                   69 non-null     int64  \n",
      " 4   Тип                               69 non-null     object \n",
      " 5   Количество чеков                  69 non-null     float64\n",
      " 6   Среднее количество единиц в чеке  69 non-null     float64\n",
      " 7   Середній дохід населення          69 non-null     float64\n",
      " 8   Населення середнє                 69 non-null     float64\n",
      " 9   Прогулянкова зона                 69 non-null     int64  \n",
      " 10  Якість покриття перед магазином   69 non-null     int64  \n",
      " 11  Стихійна торгівля                 69 non-null     int64  \n",
      " 12  Зона пікніка                      69 non-null     int64  \n",
      " 13  Церква                            69 non-null     int64  \n",
      "dtypes: float64(5), int64(7), object(2)\n",
      "memory usage: 7.7+ KB\n"
     ]
    }
   ],
   "source": [
    "df.info()"
   ]
  },
  {
   "cell_type": "markdown",
   "id": "5db1e435",
   "metadata": {},
   "source": [
    "# Encoding"
   ]
  },
  {
   "cell_type": "code",
   "execution_count": 10,
   "id": "054a2e98",
   "metadata": {},
   "outputs": [
    {
     "data": {
      "text/plain": [
       "не успішний    44\n",
       "успішний       25\n",
       "Name: Успех, dtype: int64"
      ]
     },
     "execution_count": 10,
     "metadata": {},
     "output_type": "execute_result"
    }
   ],
   "source": [
    "df.Успех.value_counts()"
   ]
  },
  {
   "cell_type": "code",
   "execution_count": 11,
   "id": "b98fe7cf",
   "metadata": {},
   "outputs": [
    {
     "data": {
      "text/plain": [
       "Light       39\n",
       "Standart    19\n",
       "light        9\n",
       "Micro        1\n",
       "Premium      1\n",
       "Name: Тип, dtype: int64"
      ]
     },
     "execution_count": 11,
     "metadata": {},
     "output_type": "execute_result"
    }
   ],
   "source": [
    "df.Тип.value_counts()"
   ]
  },
  {
   "cell_type": "code",
   "execution_count": 12,
   "id": "68591cad",
   "metadata": {},
   "outputs": [
    {
     "data": {
      "text/plain": [
       "1    69\n",
       "Name: Этаж, dtype: int64"
      ]
     },
     "execution_count": 12,
     "metadata": {},
     "output_type": "execute_result"
    }
   ],
   "source": [
    "df.Этаж.value_counts()"
   ]
  },
  {
   "cell_type": "code",
   "execution_count": 13,
   "id": "f69331a6",
   "metadata": {},
   "outputs": [
    {
     "data": {
      "text/html": [
       "<div>\n",
       "<style scoped>\n",
       "    .dataframe tbody tr th:only-of-type {\n",
       "        vertical-align: middle;\n",
       "    }\n",
       "\n",
       "    .dataframe tbody tr th {\n",
       "        vertical-align: top;\n",
       "    }\n",
       "\n",
       "    .dataframe thead th {\n",
       "        text-align: right;\n",
       "    }\n",
       "</style>\n",
       "<table border=\"1\" class=\"dataframe\">\n",
       "  <thead>\n",
       "    <tr style=\"text-align: right;\">\n",
       "      <th></th>\n",
       "      <th>Успех</th>\n",
       "      <th>Площадь загальна кв.м</th>\n",
       "      <th>Этаж</th>\n",
       "      <th>Количество касс</th>\n",
       "      <th>Тип</th>\n",
       "      <th>Количество чеков</th>\n",
       "      <th>Среднее количество единиц в чеке</th>\n",
       "      <th>Середній дохід населення</th>\n",
       "      <th>Населення середнє</th>\n",
       "      <th>Прогулянкова зона</th>\n",
       "      <th>Якість покриття перед магазином</th>\n",
       "      <th>Стихійна торгівля</th>\n",
       "      <th>Зона пікніка</th>\n",
       "      <th>Церква</th>\n",
       "    </tr>\n",
       "  </thead>\n",
       "  <tbody>\n",
       "    <tr>\n",
       "      <th>0</th>\n",
       "      <td>не успішний</td>\n",
       "      <td>9.00</td>\n",
       "      <td>1</td>\n",
       "      <td>1</td>\n",
       "      <td>0</td>\n",
       "      <td>659.0</td>\n",
       "      <td>1.56</td>\n",
       "      <td>15610.0</td>\n",
       "      <td>11298.0</td>\n",
       "      <td>0</td>\n",
       "      <td>0</td>\n",
       "      <td>0</td>\n",
       "      <td>0</td>\n",
       "      <td>1</td>\n",
       "    </tr>\n",
       "    <tr>\n",
       "      <th>1</th>\n",
       "      <td>не успішний</td>\n",
       "      <td>30.00</td>\n",
       "      <td>1</td>\n",
       "      <td>1</td>\n",
       "      <td>0</td>\n",
       "      <td>1518.0</td>\n",
       "      <td>2.03</td>\n",
       "      <td>12600.0</td>\n",
       "      <td>18903.0</td>\n",
       "      <td>0</td>\n",
       "      <td>0</td>\n",
       "      <td>0</td>\n",
       "      <td>0</td>\n",
       "      <td>0</td>\n",
       "    </tr>\n",
       "    <tr>\n",
       "      <th>2</th>\n",
       "      <td>не успішний</td>\n",
       "      <td>15.00</td>\n",
       "      <td>1</td>\n",
       "      <td>1</td>\n",
       "      <td>2</td>\n",
       "      <td>476.0</td>\n",
       "      <td>1.81</td>\n",
       "      <td>12600.0</td>\n",
       "      <td>20252.0</td>\n",
       "      <td>0</td>\n",
       "      <td>0</td>\n",
       "      <td>0</td>\n",
       "      <td>0</td>\n",
       "      <td>0</td>\n",
       "    </tr>\n",
       "    <tr>\n",
       "      <th>3</th>\n",
       "      <td>не успішний</td>\n",
       "      <td>20.00</td>\n",
       "      <td>1</td>\n",
       "      <td>1</td>\n",
       "      <td>2</td>\n",
       "      <td>1310.0</td>\n",
       "      <td>2.18</td>\n",
       "      <td>13930.0</td>\n",
       "      <td>2540.0</td>\n",
       "      <td>0</td>\n",
       "      <td>0</td>\n",
       "      <td>0</td>\n",
       "      <td>0</td>\n",
       "      <td>0</td>\n",
       "    </tr>\n",
       "    <tr>\n",
       "      <th>4</th>\n",
       "      <td>не успішний</td>\n",
       "      <td>30.00</td>\n",
       "      <td>1</td>\n",
       "      <td>1</td>\n",
       "      <td>2</td>\n",
       "      <td>2029.0</td>\n",
       "      <td>1.63</td>\n",
       "      <td>16030.0</td>\n",
       "      <td>6896.0</td>\n",
       "      <td>0</td>\n",
       "      <td>0</td>\n",
       "      <td>0</td>\n",
       "      <td>0</td>\n",
       "      <td>0</td>\n",
       "    </tr>\n",
       "    <tr>\n",
       "      <th>...</th>\n",
       "      <td>...</td>\n",
       "      <td>...</td>\n",
       "      <td>...</td>\n",
       "      <td>...</td>\n",
       "      <td>...</td>\n",
       "      <td>...</td>\n",
       "      <td>...</td>\n",
       "      <td>...</td>\n",
       "      <td>...</td>\n",
       "      <td>...</td>\n",
       "      <td>...</td>\n",
       "      <td>...</td>\n",
       "      <td>...</td>\n",
       "      <td>...</td>\n",
       "    </tr>\n",
       "    <tr>\n",
       "      <th>64</th>\n",
       "      <td>успішний</td>\n",
       "      <td>51.77</td>\n",
       "      <td>1</td>\n",
       "      <td>2</td>\n",
       "      <td>1</td>\n",
       "      <td>6884.0</td>\n",
       "      <td>1.89</td>\n",
       "      <td>8750.0</td>\n",
       "      <td>42781.0</td>\n",
       "      <td>0</td>\n",
       "      <td>0</td>\n",
       "      <td>0</td>\n",
       "      <td>0</td>\n",
       "      <td>0</td>\n",
       "    </tr>\n",
       "    <tr>\n",
       "      <th>65</th>\n",
       "      <td>успішний</td>\n",
       "      <td>27.26</td>\n",
       "      <td>1</td>\n",
       "      <td>1</td>\n",
       "      <td>0</td>\n",
       "      <td>4721.0</td>\n",
       "      <td>1.85</td>\n",
       "      <td>13300.0</td>\n",
       "      <td>32400.0</td>\n",
       "      <td>0</td>\n",
       "      <td>0</td>\n",
       "      <td>0</td>\n",
       "      <td>0</td>\n",
       "      <td>0</td>\n",
       "    </tr>\n",
       "    <tr>\n",
       "      <th>66</th>\n",
       "      <td>не успішний</td>\n",
       "      <td>148.91</td>\n",
       "      <td>1</td>\n",
       "      <td>1</td>\n",
       "      <td>0</td>\n",
       "      <td>3286.0</td>\n",
       "      <td>1.99</td>\n",
       "      <td>11060.0</td>\n",
       "      <td>29287.0</td>\n",
       "      <td>1</td>\n",
       "      <td>0</td>\n",
       "      <td>0</td>\n",
       "      <td>0</td>\n",
       "      <td>0</td>\n",
       "    </tr>\n",
       "    <tr>\n",
       "      <th>67</th>\n",
       "      <td>не успішний</td>\n",
       "      <td>50.93</td>\n",
       "      <td>1</td>\n",
       "      <td>2</td>\n",
       "      <td>1</td>\n",
       "      <td>3963.0</td>\n",
       "      <td>1.73</td>\n",
       "      <td>11900.0</td>\n",
       "      <td>5705.0</td>\n",
       "      <td>0</td>\n",
       "      <td>0</td>\n",
       "      <td>0</td>\n",
       "      <td>0</td>\n",
       "      <td>0</td>\n",
       "    </tr>\n",
       "    <tr>\n",
       "      <th>68</th>\n",
       "      <td>успішний</td>\n",
       "      <td>30.00</td>\n",
       "      <td>1</td>\n",
       "      <td>1</td>\n",
       "      <td>2</td>\n",
       "      <td>4200.0</td>\n",
       "      <td>2.13</td>\n",
       "      <td>11060.0</td>\n",
       "      <td>11085.0</td>\n",
       "      <td>0</td>\n",
       "      <td>0</td>\n",
       "      <td>0</td>\n",
       "      <td>0</td>\n",
       "      <td>0</td>\n",
       "    </tr>\n",
       "  </tbody>\n",
       "</table>\n",
       "<p>69 rows × 14 columns</p>\n",
       "</div>"
      ],
      "text/plain": [
       "          Успех  Площадь загальна кв.м  Этаж  Количество касс  Тип  \\\n",
       "0   не успішний                   9.00     1                1    0   \n",
       "1   не успішний                  30.00     1                1    0   \n",
       "2   не успішний                  15.00     1                1    2   \n",
       "3   не успішний                  20.00     1                1    2   \n",
       "4   не успішний                  30.00     1                1    2   \n",
       "..          ...                    ...   ...              ...  ...   \n",
       "64     успішний                  51.77     1                2    1   \n",
       "65     успішний                  27.26     1                1    0   \n",
       "66  не успішний                 148.91     1                1    0   \n",
       "67  не успішний                  50.93     1                2    1   \n",
       "68     успішний                  30.00     1                1    2   \n",
       "\n",
       "    Количество чеков  Среднее количество единиц в чеке  \\\n",
       "0              659.0                              1.56   \n",
       "1             1518.0                              2.03   \n",
       "2              476.0                              1.81   \n",
       "3             1310.0                              2.18   \n",
       "4             2029.0                              1.63   \n",
       "..               ...                               ...   \n",
       "64            6884.0                              1.89   \n",
       "65            4721.0                              1.85   \n",
       "66            3286.0                              1.99   \n",
       "67            3963.0                              1.73   \n",
       "68            4200.0                              2.13   \n",
       "\n",
       "    Середній дохід населення  Населення середнє  Прогулянкова зона  \\\n",
       "0                    15610.0            11298.0                  0   \n",
       "1                    12600.0            18903.0                  0   \n",
       "2                    12600.0            20252.0                  0   \n",
       "3                    13930.0             2540.0                  0   \n",
       "4                    16030.0             6896.0                  0   \n",
       "..                       ...                ...                ...   \n",
       "64                    8750.0            42781.0                  0   \n",
       "65                   13300.0            32400.0                  0   \n",
       "66                   11060.0            29287.0                  1   \n",
       "67                   11900.0             5705.0                  0   \n",
       "68                   11060.0            11085.0                  0   \n",
       "\n",
       "    Якість покриття перед магазином  Стихійна торгівля  Зона пікніка  Церква  \n",
       "0                                 0                  0             0       1  \n",
       "1                                 0                  0             0       0  \n",
       "2                                 0                  0             0       0  \n",
       "3                                 0                  0             0       0  \n",
       "4                                 0                  0             0       0  \n",
       "..                              ...                ...           ...     ...  \n",
       "64                                0                  0             0       0  \n",
       "65                                0                  0             0       0  \n",
       "66                                0                  0             0       0  \n",
       "67                                0                  0             0       0  \n",
       "68                                0                  0             0       0  \n",
       "\n",
       "[69 rows x 14 columns]"
      ]
     },
     "execution_count": 13,
     "metadata": {},
     "output_type": "execute_result"
    }
   ],
   "source": [
    "type_ = {'Light':0,'Standart':1, 'light':2, 'Micro':3, 'Premium':4}\n",
    "df['Тип'] = df['Тип'].map(type_)\n",
    "df"
   ]
  },
  {
   "cell_type": "code",
   "execution_count": 14,
   "id": "6961b856",
   "metadata": {},
   "outputs": [
    {
     "data": {
      "text/html": [
       "<div>\n",
       "<style scoped>\n",
       "    .dataframe tbody tr th:only-of-type {\n",
       "        vertical-align: middle;\n",
       "    }\n",
       "\n",
       "    .dataframe tbody tr th {\n",
       "        vertical-align: top;\n",
       "    }\n",
       "\n",
       "    .dataframe thead th {\n",
       "        text-align: right;\n",
       "    }\n",
       "</style>\n",
       "<table border=\"1\" class=\"dataframe\">\n",
       "  <thead>\n",
       "    <tr style=\"text-align: right;\">\n",
       "      <th></th>\n",
       "      <th>Успех</th>\n",
       "      <th>Площадь загальна кв.м</th>\n",
       "      <th>Этаж</th>\n",
       "      <th>Количество касс</th>\n",
       "      <th>Тип</th>\n",
       "      <th>Количество чеков</th>\n",
       "      <th>Среднее количество единиц в чеке</th>\n",
       "      <th>Середній дохід населення</th>\n",
       "      <th>Населення середнє</th>\n",
       "      <th>Прогулянкова зона</th>\n",
       "      <th>Якість покриття перед магазином</th>\n",
       "      <th>Стихійна торгівля</th>\n",
       "      <th>Зона пікніка</th>\n",
       "      <th>Церква</th>\n",
       "    </tr>\n",
       "  </thead>\n",
       "  <tbody>\n",
       "    <tr>\n",
       "      <th>0</th>\n",
       "      <td>0</td>\n",
       "      <td>9.00</td>\n",
       "      <td>1</td>\n",
       "      <td>1</td>\n",
       "      <td>0</td>\n",
       "      <td>659.0</td>\n",
       "      <td>1.56</td>\n",
       "      <td>15610.0</td>\n",
       "      <td>11298.0</td>\n",
       "      <td>0</td>\n",
       "      <td>0</td>\n",
       "      <td>0</td>\n",
       "      <td>0</td>\n",
       "      <td>1</td>\n",
       "    </tr>\n",
       "    <tr>\n",
       "      <th>1</th>\n",
       "      <td>0</td>\n",
       "      <td>30.00</td>\n",
       "      <td>1</td>\n",
       "      <td>1</td>\n",
       "      <td>0</td>\n",
       "      <td>1518.0</td>\n",
       "      <td>2.03</td>\n",
       "      <td>12600.0</td>\n",
       "      <td>18903.0</td>\n",
       "      <td>0</td>\n",
       "      <td>0</td>\n",
       "      <td>0</td>\n",
       "      <td>0</td>\n",
       "      <td>0</td>\n",
       "    </tr>\n",
       "    <tr>\n",
       "      <th>2</th>\n",
       "      <td>0</td>\n",
       "      <td>15.00</td>\n",
       "      <td>1</td>\n",
       "      <td>1</td>\n",
       "      <td>2</td>\n",
       "      <td>476.0</td>\n",
       "      <td>1.81</td>\n",
       "      <td>12600.0</td>\n",
       "      <td>20252.0</td>\n",
       "      <td>0</td>\n",
       "      <td>0</td>\n",
       "      <td>0</td>\n",
       "      <td>0</td>\n",
       "      <td>0</td>\n",
       "    </tr>\n",
       "    <tr>\n",
       "      <th>3</th>\n",
       "      <td>0</td>\n",
       "      <td>20.00</td>\n",
       "      <td>1</td>\n",
       "      <td>1</td>\n",
       "      <td>2</td>\n",
       "      <td>1310.0</td>\n",
       "      <td>2.18</td>\n",
       "      <td>13930.0</td>\n",
       "      <td>2540.0</td>\n",
       "      <td>0</td>\n",
       "      <td>0</td>\n",
       "      <td>0</td>\n",
       "      <td>0</td>\n",
       "      <td>0</td>\n",
       "    </tr>\n",
       "    <tr>\n",
       "      <th>4</th>\n",
       "      <td>0</td>\n",
       "      <td>30.00</td>\n",
       "      <td>1</td>\n",
       "      <td>1</td>\n",
       "      <td>2</td>\n",
       "      <td>2029.0</td>\n",
       "      <td>1.63</td>\n",
       "      <td>16030.0</td>\n",
       "      <td>6896.0</td>\n",
       "      <td>0</td>\n",
       "      <td>0</td>\n",
       "      <td>0</td>\n",
       "      <td>0</td>\n",
       "      <td>0</td>\n",
       "    </tr>\n",
       "    <tr>\n",
       "      <th>...</th>\n",
       "      <td>...</td>\n",
       "      <td>...</td>\n",
       "      <td>...</td>\n",
       "      <td>...</td>\n",
       "      <td>...</td>\n",
       "      <td>...</td>\n",
       "      <td>...</td>\n",
       "      <td>...</td>\n",
       "      <td>...</td>\n",
       "      <td>...</td>\n",
       "      <td>...</td>\n",
       "      <td>...</td>\n",
       "      <td>...</td>\n",
       "      <td>...</td>\n",
       "    </tr>\n",
       "    <tr>\n",
       "      <th>64</th>\n",
       "      <td>1</td>\n",
       "      <td>51.77</td>\n",
       "      <td>1</td>\n",
       "      <td>2</td>\n",
       "      <td>1</td>\n",
       "      <td>6884.0</td>\n",
       "      <td>1.89</td>\n",
       "      <td>8750.0</td>\n",
       "      <td>42781.0</td>\n",
       "      <td>0</td>\n",
       "      <td>0</td>\n",
       "      <td>0</td>\n",
       "      <td>0</td>\n",
       "      <td>0</td>\n",
       "    </tr>\n",
       "    <tr>\n",
       "      <th>65</th>\n",
       "      <td>1</td>\n",
       "      <td>27.26</td>\n",
       "      <td>1</td>\n",
       "      <td>1</td>\n",
       "      <td>0</td>\n",
       "      <td>4721.0</td>\n",
       "      <td>1.85</td>\n",
       "      <td>13300.0</td>\n",
       "      <td>32400.0</td>\n",
       "      <td>0</td>\n",
       "      <td>0</td>\n",
       "      <td>0</td>\n",
       "      <td>0</td>\n",
       "      <td>0</td>\n",
       "    </tr>\n",
       "    <tr>\n",
       "      <th>66</th>\n",
       "      <td>0</td>\n",
       "      <td>148.91</td>\n",
       "      <td>1</td>\n",
       "      <td>1</td>\n",
       "      <td>0</td>\n",
       "      <td>3286.0</td>\n",
       "      <td>1.99</td>\n",
       "      <td>11060.0</td>\n",
       "      <td>29287.0</td>\n",
       "      <td>1</td>\n",
       "      <td>0</td>\n",
       "      <td>0</td>\n",
       "      <td>0</td>\n",
       "      <td>0</td>\n",
       "    </tr>\n",
       "    <tr>\n",
       "      <th>67</th>\n",
       "      <td>0</td>\n",
       "      <td>50.93</td>\n",
       "      <td>1</td>\n",
       "      <td>2</td>\n",
       "      <td>1</td>\n",
       "      <td>3963.0</td>\n",
       "      <td>1.73</td>\n",
       "      <td>11900.0</td>\n",
       "      <td>5705.0</td>\n",
       "      <td>0</td>\n",
       "      <td>0</td>\n",
       "      <td>0</td>\n",
       "      <td>0</td>\n",
       "      <td>0</td>\n",
       "    </tr>\n",
       "    <tr>\n",
       "      <th>68</th>\n",
       "      <td>1</td>\n",
       "      <td>30.00</td>\n",
       "      <td>1</td>\n",
       "      <td>1</td>\n",
       "      <td>2</td>\n",
       "      <td>4200.0</td>\n",
       "      <td>2.13</td>\n",
       "      <td>11060.0</td>\n",
       "      <td>11085.0</td>\n",
       "      <td>0</td>\n",
       "      <td>0</td>\n",
       "      <td>0</td>\n",
       "      <td>0</td>\n",
       "      <td>0</td>\n",
       "    </tr>\n",
       "  </tbody>\n",
       "</table>\n",
       "<p>69 rows × 14 columns</p>\n",
       "</div>"
      ],
      "text/plain": [
       "    Успех  Площадь загальна кв.м  Этаж  Количество касс  Тип  \\\n",
       "0       0                   9.00     1                1    0   \n",
       "1       0                  30.00     1                1    0   \n",
       "2       0                  15.00     1                1    2   \n",
       "3       0                  20.00     1                1    2   \n",
       "4       0                  30.00     1                1    2   \n",
       "..    ...                    ...   ...              ...  ...   \n",
       "64      1                  51.77     1                2    1   \n",
       "65      1                  27.26     1                1    0   \n",
       "66      0                 148.91     1                1    0   \n",
       "67      0                  50.93     1                2    1   \n",
       "68      1                  30.00     1                1    2   \n",
       "\n",
       "    Количество чеков  Среднее количество единиц в чеке  \\\n",
       "0              659.0                              1.56   \n",
       "1             1518.0                              2.03   \n",
       "2              476.0                              1.81   \n",
       "3             1310.0                              2.18   \n",
       "4             2029.0                              1.63   \n",
       "..               ...                               ...   \n",
       "64            6884.0                              1.89   \n",
       "65            4721.0                              1.85   \n",
       "66            3286.0                              1.99   \n",
       "67            3963.0                              1.73   \n",
       "68            4200.0                              2.13   \n",
       "\n",
       "    Середній дохід населення  Населення середнє  Прогулянкова зона  \\\n",
       "0                    15610.0            11298.0                  0   \n",
       "1                    12600.0            18903.0                  0   \n",
       "2                    12600.0            20252.0                  0   \n",
       "3                    13930.0             2540.0                  0   \n",
       "4                    16030.0             6896.0                  0   \n",
       "..                       ...                ...                ...   \n",
       "64                    8750.0            42781.0                  0   \n",
       "65                   13300.0            32400.0                  0   \n",
       "66                   11060.0            29287.0                  1   \n",
       "67                   11900.0             5705.0                  0   \n",
       "68                   11060.0            11085.0                  0   \n",
       "\n",
       "    Якість покриття перед магазином  Стихійна торгівля  Зона пікніка  Церква  \n",
       "0                                 0                  0             0       1  \n",
       "1                                 0                  0             0       0  \n",
       "2                                 0                  0             0       0  \n",
       "3                                 0                  0             0       0  \n",
       "4                                 0                  0             0       0  \n",
       "..                              ...                ...           ...     ...  \n",
       "64                                0                  0             0       0  \n",
       "65                                0                  0             0       0  \n",
       "66                                0                  0             0       0  \n",
       "67                                0                  0             0       0  \n",
       "68                                0                  0             0       0  \n",
       "\n",
       "[69 rows x 14 columns]"
      ]
     },
     "execution_count": 14,
     "metadata": {},
     "output_type": "execute_result"
    }
   ],
   "source": [
    "type_ = {'не успішний':0,'успішний':1}\n",
    "df['Успех'] = df['Успех'].map(type_)\n",
    "df"
   ]
  },
  {
   "cell_type": "markdown",
   "id": "085f8fd9",
   "metadata": {},
   "source": [
    "# Chouse features"
   ]
  },
  {
   "cell_type": "code",
   "execution_count": 15,
   "id": "3a021ee1",
   "metadata": {},
   "outputs": [
    {
     "data": {
      "image/png": "[encoded data removed]",
      "text/plain": [
       "<Figure size 864x648 with 2 Axes>"
      ]
     },
     "metadata": {
      "needs_background": "light"
     },
     "output_type": "display_data"
    }
   ],
   "source": [
    "# Cheking correlations\n",
    "import seaborn as sns\n",
    "corrmat = df.corr()\n",
    "f, ax = plt.subplots(figsize=(12, 9))\n",
    "sns.heatmap(corrmat, annot=True)\n",
    "plt.show()"
   ]
  },
  {
   "cell_type": "markdown",
   "id": "52b16811",
   "metadata": {},
   "source": [
    "# Classification Tree & Ensembles"
   ]
  },
  {
   "cell_type": "code",
   "execution_count": 16,
   "id": "04810476",
   "metadata": {},
   "outputs": [],
   "source": [
    "features = ['Количество чеков', 'Количество касс']\n",
    "X =df[features]\n",
    "y = df['Успех']\n",
    "X_train, X_test, y_train, y_test = train_test_split(X, y, test_size=0.2, random_state=10)"
   ]
  },
  {
   "cell_type": "code",
   "execution_count": 17,
   "id": "c97174d6",
   "metadata": {},
   "outputs": [],
   "source": [
    "def max_leaf_nodes(X_train, X_test, y_train, y_test, n):\n",
    "    mse_train = []\n",
    "    mse_test = []\n",
    "    for i in n:\n",
    "        ct = DecisionTreeClassifier(max_leaf_nodes = i, random_state=10).fit(X_train, y_train)\n",
    "        mse_train.append(mean_squared_error(y_train, ct.predict(X_train)))\n",
    "        mse_test.append(mean_squared_error(y_test, ct.predict(X_test)))\n",
    "    \n",
    "    fig, ax = plt.subplots(figsize=(8, 4))\n",
    "    ax.plot(n, mse_train, alpha=0.5, color='blue', label='train')\n",
    "    ax.plot(n, mse_test, alpha=0.5, color='red', label='test')\n",
    "    ax.set_ylabel(\"MSE\")\n",
    "    ax.set_xlabel(\"max_leaf_nodes\")"
   ]
  },
  {
   "cell_type": "code",
   "execution_count": 18,
   "id": "59a7f007",
   "metadata": {},
   "outputs": [
    {
     "data": {
      "image/png": "[encoded data removed]",
      "text/plain": [
       "<Figure size 576x288 with 1 Axes>"
      ]
     },
     "metadata": {
      "needs_background": "light"
     },
     "output_type": "display_data"
    }
   ],
   "source": [
    "# The optimal number of max_leaf_nodes\n",
    "from sklearn.tree import DecisionTreeClassifier\n",
    "from sklearn.metrics import mean_squared_error\n",
    "max_leaf_nodes(X_train, X_test, y_train, y_test, [2, 4, 6, 8, 10])"
   ]
  },
  {
   "cell_type": "markdown",
   "id": "4f400da3",
   "metadata": {},
   "source": [
    "# model"
   ]
  },
  {
   "cell_type": "code",
   "execution_count": 19,
   "id": "6dff839b",
   "metadata": {},
   "outputs": [],
   "source": [
    "# Fitting Classification Tree to the Training set (2 variables)\n",
    "ct = DecisionTreeClassifier(max_leaf_nodes = 3, criterion = 'entropy', random_state = 10).fit(X_train, y_train)"
   ]
  },
  {
   "cell_type": "markdown",
   "id": "14a381be",
   "metadata": {},
   "source": [
    "# resul"
   ]
  },
  {
   "cell_type": "code",
   "execution_count": 20,
   "id": "6f4f5b52",
   "metadata": {},
   "outputs": [
    {
     "data": {
      "text/plain": [
       "0.8571428571428571"
      ]
     },
     "execution_count": 20,
     "metadata": {},
     "output_type": "execute_result"
    }
   ],
   "source": [
    "# Predicting the Test set results\n",
    "y_pred = ct.predict(X_test)\n",
    "ct.score(X_test,y_test)"
   ]
  },
  {
   "cell_type": "code",
   "execution_count": 21,
   "id": "db11b126",
   "metadata": {},
   "outputs": [
    {
     "name": "stdout",
     "output_type": "stream",
     "text": [
      "[[9 2]\n",
      " [0 3]]\n"
     ]
    }
   ],
   "source": [
    "# Making the Confusion Matrix\n",
    "from sklearn.metrics import confusion_matrix\n",
    "cm = confusion_matrix(y_test, y_pred)\n",
    "print(cm)"
   ]
  },
  {
   "cell_type": "code",
   "execution_count": 22,
   "id": "4ff2d0e1",
   "metadata": {},
   "outputs": [
    {
     "data": {
      "text/plain": [
       "Index(['Площадь загальна кв.м', 'Этаж', 'Количество касс', 'Тип',\n",
       "       'Количество чеков', 'Среднее количество единиц в чеке',\n",
       "       'Середній дохід населення', 'Населення середнє', 'Прогулянкова зона',\n",
       "       'Якість покриття перед магазином', 'Стихійна торгівля', 'Зона пікніка',\n",
       "       'Церква'],\n",
       "      dtype='object')"
      ]
     },
     "execution_count": 22,
     "metadata": {},
     "output_type": "execute_result"
    }
   ],
   "source": [
    "df.drop(columns=['Успех']).columns"
   ]
  },
  {
   "cell_type": "code",
   "execution_count": 23,
   "id": "3328ed78",
   "metadata": {},
   "outputs": [
    {
     "data": {
      "text/plain": [
       "Text(0.5, 1.0, 'Boosting. Feature Importance')"
      ]
     },
     "execution_count": 23,
     "metadata": {},
     "output_type": "execute_result"
    },
    {
     "data": {
      "image/png": "[encoded data removed]",
      "text/plain": [
       "<Figure size 720x504 with 1 Axes>"
      ]
     },
     "metadata": {
      "needs_background": "light"
     },
     "output_type": "display_data"
    }
   ],
   "source": [
    "# Features importances\n",
    "col = features\n",
    "ct_imp = pd.DataFrame({'imp': ct.feature_importances_, 'col': col})\n",
    "ct_imp = ct_imp.sort_values(['imp', 'col'], ascending=[True, False]).iloc[-25:]\n",
    "ct_imp.plot(kind='barh', x='col', y='imp', figsize=(10, 7), legend=None)\n",
    "plt.title('Boosting. Feature Importance')"
   ]
  },
  {
   "cell_type": "markdown",
   "id": "8e5d24a4",
   "metadata": {},
   "source": [
    "# visualisation"
   ]
  },
  {
   "cell_type": "code",
   "execution_count": 26,
   "id": "a88eba83",
   "metadata": {},
   "outputs": [
    {
     "name": "stdout",
     "output_type": "stream",
     "text": [
      "Collecting netcdf4\n",
      "  Downloading netCDF4-1.5.8-cp39-cp39-macosx_10_9_x86_64.whl (4.2 MB)\n",
      "\u001b[K     |████████████████████████████████| 4.2 MB 1.6 MB/s eta 0:00:01     |███████████▍                    | 1.5 MB 1.6 MB/s eta 0:00:02\n",
      "\u001b[?25hRequirement already satisfied: numpy>=1.9 in /opt/anaconda3/lib/python3.9/site-packages (from netcdf4) (1.20.3)\n",
      "Collecting cftime\n",
      "  Downloading cftime-1.5.1.1-cp39-cp39-macosx_10_9_x86_64.whl (222 kB)\n",
      "\u001b[K     |████████████████████████████████| 222 kB 10.6 MB/s eta 0:00:01\n",
      "\u001b[?25hInstalling collected packages: cftime, netcdf4\n",
      "Successfully installed cftime-1.5.1.1 netcdf4-1.5.8\n",
      "Note: you may need to restart the kernel to use updated packages.\n"
     ]
    }
   ],
   "source": [
    "pip install netcdf4"
   ]
  },
  {
   "cell_type": "code",
   "execution_count": 28,
   "id": "bfb8ed89",
   "metadata": {},
   "outputs": [
    {
     "name": "stderr",
     "output_type": "stream",
     "text": [
      "*c* argument looks like a single numeric RGB or RGBA sequence, which should be avoided as value-mapping will have precedence in case its length matches with *x* & *y*.  Please use the *color* keyword-argument or provide a 2D array with a single row if you intend to specify the same RGB or RGBA value for all points.\n",
      "*c* argument looks like a single numeric RGB or RGBA sequence, which should be avoided as value-mapping will have precedence in case its length matches with *x* & *y*.  Please use the *color* keyword-argument or provide a 2D array with a single row if you intend to specify the same RGB or RGBA value for all points.\n"
     ]
    },
    {
     "data": {
      "image/png": "[encoded data removed]",
      "text/plain": [
       "<Figure size 432x288 with 1 Axes>"
      ]
     },
     "metadata": {
      "needs_background": "light"
     },
     "output_type": "display_data"
    }
   ],
   "source": [
    "# Visualising the Test set results\n",
    "from matplotlib.colors import ListedColormap\n",
    "X_set, y_set = X_test, y_test\n",
    "X1, X2 = np.meshgrid(np.arange(start = X_set['Количество чеков'].min() - 1, stop = X_set['Количество чеков'].max() + 1),\n",
    "                     np.arange(start = X_set['Количество касс'].min() - 1, stop = X_set['Количество касс'].max() + 1))\n",
    "plt.contourf(X1, X2, ct.predict(np.array([X1.ravel(), X2.ravel()]).T).reshape(X1.shape),\n",
    "             alpha = 0.75, cmap = ListedColormap(('red', 'green')))\n",
    "plt.xlim(X1.min(), X1.max())\n",
    "plt.ylim(X2.min(), X2.max())\n",
    "for i, j in enumerate(np.unique(y_set)):\n",
    "    plt.scatter(X_set['Количество чеков'][y_set == j], X_set['Количество касс'][y_set == j],\n",
    "                c = ListedColormap(('red', 'green'))(i), label = j)\n",
    "plt.title('Classification Tree (Test set)')\n",
    "plt.xlabel('Количество чеков')\n",
    "plt.ylabel('Количество касс')\n",
    "plt.legend()\n",
    "plt.show()"
   ]
  },
  {
   "cell_type": "markdown",
   "id": "5d73c2ef",
   "metadata": {},
   "source": [
    " # Forest"
   ]
  },
  {
   "cell_type": "markdown",
   "id": "d155683c",
   "metadata": {},
   "source": [
    "Parameters"
   ]
  },
  {
   "cell_type": "code",
   "execution_count": 29,
   "id": "a1f43789",
   "metadata": {},
   "outputs": [],
   "source": [
    "def rf_best_n_estimator(X_train, X_test, y_train, y_test, n):\n",
    "    mse_train = []\n",
    "    mse_test = []\n",
    "    for i in n:\n",
    "        rf = RandomForestClassifier(n_estimators=i, random_state=10).fit(X_train, y_train)\n",
    "        mse_train.append(mean_squared_error(y_train, rf.predict(X_train)))\n",
    "        mse_test.append(mean_squared_error(y_test, rf.predict(X_test)))\n",
    "    \n",
    "    fig, ax = plt.subplots(figsize=(8, 4))\n",
    "    ax.plot(n, mse_train, alpha=0.5, color='blue', label='train')\n",
    "    ax.plot(n, mse_test, alpha=0.5, color='red', label='test')\n",
    "    ax.set_ylabel(\"MSE\")\n",
    "    ax.set_xlabel(\"N_estimators\")"
   ]
  },
  {
   "cell_type": "code",
   "execution_count": 30,
   "id": "e401f8dc",
   "metadata": {},
   "outputs": [
    {
     "data": {
      "image/png": "[encoded data removed]",
      "text/plain": [
       "<Figure size 576x288 with 1 Axes>"
      ]
     },
     "metadata": {
      "needs_background": "light"
     },
     "output_type": "display_data"
    }
   ],
   "source": [
    "# The optimal number of trees \n",
    "from sklearn.ensemble import RandomForestClassifier    \n",
    "rf_best_n_estimator(X_train, X_test, y_train, y_test, [2, 5, 10, 15, 20])"
   ]
  },
  {
   "cell_type": "code",
   "execution_count": 32,
   "id": "bdc6ed80",
   "metadata": {},
   "outputs": [],
   "source": [
    "def rf_max_leaf_nodes(X_train, X_test, y_train, y_test, n):\n",
    "    mse_train = []\n",
    "    mse_test = []\n",
    "    for i in n:\n",
    "        rf = RandomForestClassifier(n_estimators=5, max_leaf_nodes =i, random_state=10).fit(X_train, y_train)\n",
    "        mse_train.append(mean_squared_error(y_train, rf.predict(X_train)))\n",
    "        mse_test.append(mean_squared_error(y_test, rf.predict(X_test)))\n",
    "    \n",
    "    fig, ax = plt.subplots(figsize=(8, 4))\n",
    "    ax.plot(n, mse_train, alpha=0.5, color='blue', label='train')\n",
    "    ax.plot(n, mse_test, alpha=0.5, color='red', label='test')\n",
    "    ax.set_ylabel(\"MSE\")\n",
    "    ax.set_xlabel(\"max_leaf_nodes\")\n",
    "\n"
   ]
  },
  {
   "cell_type": "code",
   "execution_count": 33,
   "id": "bc846a12",
   "metadata": {},
   "outputs": [
    {
     "data": {
      "image/png": "[encoded data removed]",
      "text/plain": [
       "<Figure size 576x288 with 1 Axes>"
      ]
     },
     "metadata": {
      "needs_background": "light"
     },
     "output_type": "display_data"
    }
   ],
   "source": [
    "# The optimal number of max_leaf_nodes\n",
    "rf_max_leaf_nodes(X_train, X_test, y_train, y_test, [2, 4, 6, 8, 10])"
   ]
  },
  {
   "cell_type": "markdown",
   "id": "530b8d3f",
   "metadata": {},
   "source": [
    "# model\n"
   ]
  },
  {
   "cell_type": "code",
   "execution_count": 34,
   "id": "f8049821",
   "metadata": {},
   "outputs": [],
   "source": [
    "# Fitting Random Forest to the Training set\n",
    "from sklearn.ensemble import RandomForestClassifier\n",
    "rf = RandomForestClassifier(n_estimators = 9, max_leaf_nodes = 8, random_state = 10).fit(X_train, y_train)"
   ]
  },
  {
   "cell_type": "markdown",
   "id": "47b9f6a6",
   "metadata": {},
   "source": [
    "# results"
   ]
  },
  {
   "cell_type": "code",
   "execution_count": 35,
   "id": "18b425e2",
   "metadata": {},
   "outputs": [
    {
     "data": {
      "text/plain": [
       "0.857"
      ]
     },
     "execution_count": 35,
     "metadata": {},
     "output_type": "execute_result"
    }
   ],
   "source": [
    "# Predicting the Test set results\n",
    "y_pred = rf.predict(X_test)\n",
    "y_pred = (y_pred > 0.5)\n",
    "rf.score(X_test,y_test).round(3)"
   ]
  },
  {
   "cell_type": "code",
   "execution_count": 36,
   "id": "d2a823be",
   "metadata": {},
   "outputs": [
    {
     "name": "stdout",
     "output_type": "stream",
     "text": [
      "[[9 2]\n",
      " [0 3]]\n"
     ]
    }
   ],
   "source": [
    "# Making the Confusion Matrix\n",
    "from sklearn.metrics import confusion_matrix\n",
    "cm = confusion_matrix(y_test, y_pred)\n",
    "print(cm)"
   ]
  },
  {
   "cell_type": "code",
   "execution_count": 37,
   "id": "b56f4a9a",
   "metadata": {},
   "outputs": [
    {
     "data": {
      "text/plain": [
       "Text(0.5, 1.0, 'Boosting. Feature Importance')"
      ]
     },
     "execution_count": 37,
     "metadata": {},
     "output_type": "execute_result"
    },
    {
     "data": {
      "image/png": "[encoded data removed]",
      "text/plain": [
       "<Figure size 720x504 with 1 Axes>"
      ]
     },
     "metadata": {
      "needs_background": "light"
     },
     "output_type": "display_data"
    }
   ],
   "source": [
    "# Features importances\n",
    "rf_imp = pd.DataFrame({'imp': rf.feature_importances_, 'col': col})\n",
    "rf_imp = rf_imp.sort_values(['imp', 'col'], ascending=[True, False]).iloc[-25:]\n",
    "rf_imp.plot(kind='barh', x='col', y='imp', figsize=(10, 7), legend=None)\n",
    "plt.title('Boosting. Feature Importance')"
   ]
  },
  {
   "cell_type": "markdown",
   "id": "0d0deb75",
   "metadata": {},
   "source": [
    "# visualisation"
   ]
  },
  {
   "cell_type": "code",
   "execution_count": 38,
   "id": "aabeee99",
   "metadata": {},
   "outputs": [
    {
     "name": "stderr",
     "output_type": "stream",
     "text": [
      "*c* argument looks like a single numeric RGB or RGBA sequence, which should be avoided as value-mapping will have precedence in case its length matches with *x* & *y*.  Please use the *color* keyword-argument or provide a 2D array with a single row if you intend to specify the same RGB or RGBA value for all points.\n",
      "*c* argument looks like a single numeric RGB or RGBA sequence, which should be avoided as value-mapping will have precedence in case its length matches with *x* & *y*.  Please use the *color* keyword-argument or provide a 2D array with a single row if you intend to specify the same RGB or RGBA value for all points.\n"
     ]
    },
    {
     "data": {
      "image/png": "[encoded data removed]",
      "text/plain": [
       "<Figure size 432x288 with 1 Axes>"
      ]
     },
     "metadata": {
      "needs_background": "light"
     },
     "output_type": "display_data"
    }
   ],
   "source": [
    "X_set, y_set = X_test, y_test\n",
    "X_set, y_set = X_test, y_test\n",
    "X1, X2 = np.meshgrid(np.arange(start = X_set['Количество чеков'].min() - 1, stop = X_set['Количество чеков'].max() + 1),\n",
    "                     np.arange(start = X_set['Количество касс'].min() - 1, stop = X_set['Количество касс'].max() + 1))\n",
    "plt.contourf(X1, X2, rf.predict(np.array([X1.ravel(), X2.ravel()]).T).reshape(X1.shape),\n",
    "             alpha = 0.75, cmap = ListedColormap(('red', 'green')))\n",
    "plt.xlim(X1.min(), X1.max())\n",
    "plt.ylim(X2.min(), X2.max())\n",
    "for i, j in enumerate(np.unique(y_set)):\n",
    "    plt.scatter(X_set['Количество чеков'][y_set == j], X_set['Количество касс'][y_set == j],\n",
    "                c = ListedColormap(('red', 'green'))(i), label = j)\n",
    "plt.title('Random Forest (Test set)')\n",
    "plt.xlabel('Количество чеков')\n",
    "plt.ylabel('Количество касс')\n",
    "plt.legend()\n",
    "plt.show()"
   ]
  },
  {
   "cell_type": "markdown",
   "id": "d7fe5f1d",
   "metadata": {},
   "source": [
    "# catboost"
   ]
  },
  {
   "cell_type": "code",
   "execution_count": 39,
   "id": "e6bc8496",
   "metadata": {},
   "outputs": [
    {
     "data": {
      "image/png": "[encoded data removed]",
      "text/plain": [
       "<Figure size 576x288 with 1 Axes>"
      ]
     },
     "metadata": {
      "needs_background": "light"
     },
     "output_type": "display_data"
    }
   ],
   "source": [
    "def catboost_best_iterations(X_train, X_test, y_train, y_test, n):\n",
    "    mse_train = []\n",
    "    mse_test = []\n",
    "    for i in n:\n",
    "        catboost = CatBoostClassifier(iterations=i,random_state=10).fit(X_train, y_train,eval_set=(X_test, y_test),logging_level='Silent')\n",
    "        mse_train.append(mean_squared_error(y_train, catboost.predict(X_train)))\n",
    "        mse_test.append(mean_squared_error(y_test, catboost.predict(X_test)))\n",
    "    fig, ax = plt.subplots(figsize=(8, 4))\n",
    "    ax.plot(n, mse_train, alpha=0.5, color='blue', label='train')\n",
    "    ax.plot(n, mse_test, alpha=0.5, color='red', label='test')\n",
    "    ax.set_ylabel('\"MSE')\n",
    "    ax.set_xlabel('Iterations')\n",
    "    ax.legend(framealpha=1, frameon=True);\n",
    "    \n",
    "from catboost import CatBoostClassifier\n",
    "catboost_best_iterations(X_train, X_test, y_train, y_test, list(range(1,13)))"
   ]
  },
  {
   "cell_type": "code",
   "execution_count": 40,
   "id": "fe44a0cd",
   "metadata": {},
   "outputs": [
    {
     "data": {
      "image/png": "[encoded data removed]",
      "text/plain": [
       "<Figure size 576x288 with 1 Axes>"
      ]
     },
     "metadata": {
      "needs_background": "light"
     },
     "output_type": "display_data"
    }
   ],
   "source": [
    "def catboost_max_depth(X_train, X_test, y_train, y_test, n):\n",
    "    mse_train = []\n",
    "    mse_test = []\n",
    "    for i in n:\n",
    "        catboost = CatBoostClassifier(iterations=12,max_depth=i,random_state=10).fit(X_train,y_train,eval_set=(X_test, y_test),logging_level='Silent')\n",
    "        mse_train.append(mean_squared_error(y_train, catboost.predict(X_train)))\n",
    "        mse_test.append(mean_squared_error(y_test, catboost.predict(X_test)))\n",
    "    fig, ax = plt.subplots(figsize=(8, 4))\n",
    "    ax.plot(n, mse_train, alpha=0.5, color='blue', label='train')\n",
    "    ax.plot(n, mse_test, alpha=0.5, color='red', label='test')\n",
    "    ax.set_ylabel(\"MSE\")\n",
    "    ax.set_xlabel(\"max_depth\")\n",
    "    ax.legend(framealpha=1, frameon=True);\n",
    "\n",
    "catboost_max_depth(X_train, X_test, y_train, y_test, list(range(1,15)))"
   ]
  },
  {
   "cell_type": "markdown",
   "id": "70773587",
   "metadata": {},
   "source": [
    "# model"
   ]
  },
  {
   "cell_type": "code",
   "execution_count": 41,
   "id": "13fe4679",
   "metadata": {},
   "outputs": [],
   "source": [
    "# Fitting CatBoost to the Training set\n",
    "cb = CatBoostClassifier(iterations=12,max_depth=6,random_state=10).fit(X_train, y_train,eval_set=(X_test, y_test),logging_level='Silent')"
   ]
  },
  {
   "cell_type": "markdown",
   "id": "96cb0b26",
   "metadata": {},
   "source": [
    "# result"
   ]
  },
  {
   "cell_type": "code",
   "execution_count": 42,
   "id": "99f82204",
   "metadata": {},
   "outputs": [
    {
     "data": {
      "text/plain": [
       "0.857"
      ]
     },
     "execution_count": 42,
     "metadata": {},
     "output_type": "execute_result"
    }
   ],
   "source": [
    "# Predicting the Test set results\n",
    "cb_y_pred = cb.predict(X_test)\n",
    "cb.score(X_test,y_test).round(3)"
   ]
  },
  {
   "cell_type": "code",
   "execution_count": 43,
   "id": "ca5de753",
   "metadata": {},
   "outputs": [
    {
     "name": "stdout",
     "output_type": "stream",
     "text": [
      "[[9 2]\n",
      " [0 3]]\n"
     ]
    }
   ],
   "source": [
    "# Making the Confusion Matrix\n",
    "cm = confusion_matrix(y_test, cb_y_pred)\n",
    "print(cm)"
   ]
  },
  {
   "cell_type": "code",
   "execution_count": 44,
   "id": "10fc9522",
   "metadata": {},
   "outputs": [
    {
     "data": {
      "text/plain": [
       "Text(0.5, 1.0, 'Boosting. Feature Importance')"
      ]
     },
     "execution_count": 44,
     "metadata": {},
     "output_type": "execute_result"
    },
    {
     "data": {
      "image/png": "[encoded data removed]",
      "text/plain": [
       "<Figure size 720x504 with 1 Axes>"
      ]
     },
     "metadata": {
      "needs_background": "light"
     },
     "output_type": "display_data"
    }
   ],
   "source": [
    "# Features importances\n",
    "cb_imp = pd.DataFrame({'imp': cb.get_feature_importance(), 'col': col})\n",
    "cb_imp = cb_imp.sort_values(['imp', 'col'], ascending=[True, False]).iloc[-25:]\n",
    "cb_imp.plot(kind='barh', x='col', y='imp', figsize=(10, 7), legend=None)\n",
    "plt.title('Boosting. Feature Importance')"
   ]
  },
  {
   "cell_type": "code",
   "execution_count": 45,
   "id": "e6737cf0",
   "metadata": {},
   "outputs": [
    {
     "name": "stderr",
     "output_type": "stream",
     "text": [
      "*c* argument looks like a single numeric RGB or RGBA sequence, which should be avoided as value-mapping will have precedence in case its length matches with *x* & *y*.  Please use the *color* keyword-argument or provide a 2D array with a single row if you intend to specify the same RGB or RGBA value for all points.\n",
      "*c* argument looks like a single numeric RGB or RGBA sequence, which should be avoided as value-mapping will have precedence in case its length matches with *x* & *y*.  Please use the *color* keyword-argument or provide a 2D array with a single row if you intend to specify the same RGB or RGBA value for all points.\n"
     ]
    },
    {
     "data": {
      "image/png": "[encoded data removed]",
      "text/plain": [
       "<Figure size 432x288 with 1 Axes>"
      ]
     },
     "metadata": {
      "needs_background": "light"
     },
     "output_type": "display_data"
    }
   ],
   "source": [
    "# Visualising the Test set results\n",
    "X_set, y_set = X_test, y_test\n",
    "X_set, y_set = X_test, y_test\n",
    "X1, X2 = np.meshgrid(np.arange(start = X_set['Количество чеков'].min() - 1, stop = X_set['Количество чеков'].max() + 1),\n",
    "                     np.arange(start = X_set['Количество касс'].min() - 1, stop = X_set['Количество касс'].max() + 1))\n",
    "plt.contourf(X1, X2, cb.predict(np.array([X1.ravel(), X2.ravel()]).T).reshape(X1.shape),\n",
    "             alpha = 0.75, cmap = ListedColormap(('red', 'green')))\n",
    "plt.xlim(X1.min(), X1.max())\n",
    "plt.ylim(X2.min(), X2.max())\n",
    "for i, j in enumerate(np.unique(y_set)):\n",
    "    plt.scatter(X_set['Количество чеков'][y_set == j], X_set['Количество касс'][y_set == j],\n",
    "                c = ListedColormap(('red', 'green'))(i), label = j)\n",
    "plt.title('Random Forest (Test set)')\n",
    "plt.xlabel('Количество чеков')\n",
    "plt.ylabel('Количество касс')\n",
    "plt.legend()\n",
    "plt.show()"
   ]
  },
  {
   "cell_type": "markdown",
   "id": "8040280c",
   "metadata": {},
   "source": [
    "# Hierarchical Clustering"
   ]
  },
  {
   "cell_type": "code",
   "execution_count": 46,
   "id": "6fd1c7f3",
   "metadata": {},
   "outputs": [],
   "source": [
    "from sklearn.preprocessing import MinMaxScaler\n",
    "sc = MinMaxScaler().fit(df)\n",
    "df_arr = sc.transform(df)"
   ]
  },
  {
   "cell_type": "code",
   "execution_count": 47,
   "id": "4b510ef1",
   "metadata": {},
   "outputs": [],
   "source": [
    "df = pd.DataFrame(df_arr, columns=df.columns).round()"
   ]
  },
  {
   "cell_type": "code",
   "execution_count": 48,
   "id": "92f7d430",
   "metadata": {},
   "outputs": [
    {
     "data": {
      "image/png": "[encoded data removed]",
      "text/plain": [
       "<Figure size 864x648 with 2 Axes>"
      ]
     },
     "metadata": {
      "needs_background": "light"
     },
     "output_type": "display_data"
    }
   ],
   "source": [
    "corrmat = df.corr()\n",
    "f, ax = plt.subplots(figsize=(12, 9))\n",
    "sns.heatmap(corrmat, annot=True)\n",
    "plt.show()"
   ]
  },
  {
   "cell_type": "code",
   "execution_count": 49,
   "id": "292f9e4c",
   "metadata": {},
   "outputs": [
    {
     "data": {
      "image/png": "[encoded data removed]",
      "text/plain": [
       "<Figure size 432x288 with 1 Axes>"
      ]
     },
     "metadata": {
      "needs_background": "light"
     },
     "output_type": "display_data"
    }
   ],
   "source": [
    "import scipy.cluster.hierarchy as sch\n",
    "dendrogram = sch.dendrogram(sch.linkage(df, method = 'ward'))\n",
    "plt.title('Dendrogram')\n",
    "plt.xlabel('Customers')\n",
    "plt.ylabel('Euclidean distances')\n",
    "plt.show()"
   ]
  },
  {
   "cell_type": "markdown",
   "id": "8e46e770",
   "metadata": {},
   "source": [
    "Исходя из графика можно сказть что подходящее количество классов это 2 или 3"
   ]
  },
  {
   "cell_type": "code",
   "execution_count": 50,
   "id": "b8a7bbc4",
   "metadata": {},
   "outputs": [],
   "source": [
    "from sklearn.cluster import AgglomerativeClustering\n",
    "hc = AgglomerativeClustering(n_clusters = 3, affinity = 'euclidean', linkage = 'ward').fit_predict(df)"
   ]
  },
  {
   "cell_type": "code",
   "execution_count": 51,
   "id": "65b6ccb9",
   "metadata": {},
   "outputs": [
    {
     "data": {
      "text/plain": [
       "array([1, 2, 1, 2, 1, 1, 0, 0, 1, 1, 1, 0, 2, 2, 0, 1, 1, 2, 1, 2, 1, 1,\n",
       "       1, 0, 2, 1, 1, 2, 0, 0, 1, 1, 0, 1, 1, 1, 0, 1, 1, 1, 1, 0, 1, 0,\n",
       "       2, 2, 1, 2, 1, 0, 2, 2, 0, 0, 1, 1, 1, 1, 1, 0, 1, 0, 0, 2, 0, 1,\n",
       "       2, 1, 2])"
      ]
     },
     "execution_count": 51,
     "metadata": {},
     "output_type": "execute_result"
    }
   ],
   "source": [
    "hc"
   ]
  },
  {
   "cell_type": "markdown",
   "id": "bb813b7e",
   "metadata": {},
   "source": [
    "# Feature Reduction"
   ]
  },
  {
   "cell_type": "code",
   "execution_count": 52,
   "id": "93d22eed",
   "metadata": {},
   "outputs": [],
   "source": [
    "X = df.iloc[:, [0, 5, 6]]"
   ]
  },
  {
   "cell_type": "code",
   "execution_count": 53,
   "id": "56171590",
   "metadata": {},
   "outputs": [
    {
     "data": {
      "image/png": "[encoded data removed]",
      "text/plain": [
       "<Figure size 432x288 with 1 Axes>"
      ]
     },
     "metadata": {
      "needs_background": "light"
     },
     "output_type": "display_data"
    }
   ],
   "source": [
    "# Using the dendrogram to find the optimal number of clusters\n",
    "import scipy.cluster.hierarchy as sch\n",
    "dendrogram = sch.dendrogram(sch.linkage(X, method = 'ward'))\n",
    "plt.title('Dendrogram')\n",
    "plt.xlabel('Customers')\n",
    "plt.ylabel('Euclidean distances')\n",
    "plt.show()"
   ]
  },
  {
   "cell_type": "markdown",
   "id": "92c42095",
   "metadata": {},
   "source": [
    "Исходя из графика можно сказть что подходящее количество классов это 2"
   ]
  },
  {
   "cell_type": "code",
   "execution_count": 54,
   "id": "7074ade3",
   "metadata": {},
   "outputs": [],
   "source": [
    "# Fitting Hierarchical Clustering to the dataset\n",
    "from sklearn.cluster import AgglomerativeClustering\n",
    "hc = AgglomerativeClustering(n_clusters = 2, affinity = 'euclidean', linkage = 'ward').fit_predict(df)"
   ]
  },
  {
   "cell_type": "code",
   "execution_count": 55,
   "id": "fdf3243a",
   "metadata": {},
   "outputs": [],
   "source": [
    "# Export hc clusters\n",
    "import pickle\n",
    "obj = {'hc': hc}\n",
    "output = open('clust.pkl', 'wb')\n",
    "pickle.dump(obj, output, 2)\n",
    "output.close()"
   ]
  },
  {
   "cell_type": "markdown",
   "id": "604ef10c",
   "metadata": {},
   "source": [
    "# K-Means Clustering"
   ]
  },
  {
   "cell_type": "code",
   "execution_count": 56,
   "id": "84a23442",
   "metadata": {},
   "outputs": [
    {
     "data": {
      "image/png": "[encoded data removed]",
      "text/plain": [
       "<Figure size 432x288 with 1 Axes>"
      ]
     },
     "metadata": {
      "needs_background": "light"
     },
     "output_type": "display_data"
    }
   ],
   "source": [
    "# Using the elbow method to find the optimal number of clusters\n",
    "from sklearn.cluster import KMeans\n",
    "wcss = []\n",
    "for i in range(1, 11):\n",
    "    kmeans = KMeans(n_clusters = i, init = 'k-means++', random_state = 0)\n",
    "    kmeans.fit(df)\n",
    "    wcss.append(kmeans.inertia_)\n",
    "\n",
    "plt.plot(range(1, 11), wcss)\n",
    "plt.title('The Elbow Method')\n",
    "plt.xlabel('Number of clusters')\n",
    "plt.ylabel('WCSS')\n",
    "plt.show()"
   ]
  },
  {
   "cell_type": "code",
   "execution_count": 57,
   "id": "7bbdcfd2",
   "metadata": {},
   "outputs": [
    {
     "data": {
      "image/png": "[encoded data removed]",
      "text/plain": [
       "<Figure size 432x288 with 1 Axes>"
      ]
     },
     "metadata": {
      "needs_background": "light"
     },
     "output_type": "display_data"
    },
    {
     "name": "stdout",
     "output_type": "stream",
     "text": [
      "2:0.34625822080263474\n",
      "3:0.3023314207940713\n",
      "4:0.2991674858498478\n",
      "5:0.3326966167171705\n"
     ]
    }
   ],
   "source": [
    "# Using the silhouette method to find the optimal number of clusters\n",
    "from sklearn.metrics import silhouette_score\n",
    "\n",
    "sil = []\n",
    "\n",
    "for k in range(2, 6):\n",
    "  kmeans = KMeans(n_clusters = k).fit(df)  \n",
    "  preds = kmeans.fit_predict(df)\n",
    "  sil.append(silhouette_score(df, preds, metric = 'euclidean'))\n",
    "\n",
    "\n",
    "plt.plot(range(2, 6), sil)\n",
    "plt.title('Silhouette Method')\n",
    "plt.xlabel('Number of clusters')\n",
    "plt.ylabel('Sil')\n",
    "plt.show()\n",
    "\n",
    "for i in range(len(sil)):\n",
    " print(str(i+2) +\":\"+ str(sil[i]))"
   ]
  },
  {
   "cell_type": "markdown",
   "id": "04aeec5f",
   "metadata": {},
   "source": [
    "# model"
   ]
  },
  {
   "cell_type": "code",
   "execution_count": 58,
   "id": "53092db9",
   "metadata": {},
   "outputs": [
    {
     "data": {
      "text/html": [
       "<div>\n",
       "<style scoped>\n",
       "    .dataframe tbody tr th:only-of-type {\n",
       "        vertical-align: middle;\n",
       "    }\n",
       "\n",
       "    .dataframe tbody tr th {\n",
       "        vertical-align: top;\n",
       "    }\n",
       "\n",
       "    .dataframe thead th {\n",
       "        text-align: right;\n",
       "    }\n",
       "</style>\n",
       "<table border=\"1\" class=\"dataframe\">\n",
       "  <thead>\n",
       "    <tr style=\"text-align: right;\">\n",
       "      <th></th>\n",
       "      <th>Успех</th>\n",
       "      <th>Площадь загальна кв.м</th>\n",
       "      <th>Этаж</th>\n",
       "      <th>Количество касс</th>\n",
       "      <th>Тип</th>\n",
       "      <th>Количество чеков</th>\n",
       "      <th>Среднее количество единиц в чеке</th>\n",
       "      <th>Середній дохід населення</th>\n",
       "      <th>Населення середнє</th>\n",
       "      <th>Прогулянкова зона</th>\n",
       "      <th>Якість покриття перед магазином</th>\n",
       "      <th>Стихійна торгівля</th>\n",
       "      <th>Зона пікніка</th>\n",
       "      <th>Церква</th>\n",
       "    </tr>\n",
       "  </thead>\n",
       "  <tbody>\n",
       "    <tr>\n",
       "      <th>0</th>\n",
       "      <td>1.00</td>\n",
       "      <td>0.40</td>\n",
       "      <td>0.0</td>\n",
       "      <td>-0.00</td>\n",
       "      <td>0.10</td>\n",
       "      <td>0.70</td>\n",
       "      <td>0.90</td>\n",
       "      <td>1.00</td>\n",
       "      <td>0.00</td>\n",
       "      <td>0.00</td>\n",
       "      <td>0.20</td>\n",
       "      <td>0.10</td>\n",
       "      <td>0.00</td>\n",
       "      <td>0.00</td>\n",
       "    </tr>\n",
       "    <tr>\n",
       "      <th>1</th>\n",
       "      <td>0.02</td>\n",
       "      <td>0.00</td>\n",
       "      <td>0.0</td>\n",
       "      <td>0.00</td>\n",
       "      <td>0.02</td>\n",
       "      <td>0.02</td>\n",
       "      <td>0.20</td>\n",
       "      <td>0.98</td>\n",
       "      <td>0.11</td>\n",
       "      <td>0.11</td>\n",
       "      <td>0.11</td>\n",
       "      <td>0.09</td>\n",
       "      <td>0.05</td>\n",
       "      <td>0.09</td>\n",
       "    </tr>\n",
       "    <tr>\n",
       "      <th>2</th>\n",
       "      <td>0.93</td>\n",
       "      <td>0.07</td>\n",
       "      <td>0.0</td>\n",
       "      <td>0.07</td>\n",
       "      <td>-0.00</td>\n",
       "      <td>0.53</td>\n",
       "      <td>0.73</td>\n",
       "      <td>1.00</td>\n",
       "      <td>1.00</td>\n",
       "      <td>0.53</td>\n",
       "      <td>0.07</td>\n",
       "      <td>0.13</td>\n",
       "      <td>0.07</td>\n",
       "      <td>0.13</td>\n",
       "    </tr>\n",
       "  </tbody>\n",
       "</table>\n",
       "</div>"
      ],
      "text/plain": [
       "   Успех  Площадь загальна кв.м  Этаж  Количество касс   Тип  \\\n",
       "0   1.00                   0.40   0.0            -0.00  0.10   \n",
       "1   0.02                   0.00   0.0             0.00  0.02   \n",
       "2   0.93                   0.07   0.0             0.07 -0.00   \n",
       "\n",
       "   Количество чеков  Среднее количество единиц в чеке  \\\n",
       "0              0.70                              0.90   \n",
       "1              0.02                              0.20   \n",
       "2              0.53                              0.73   \n",
       "\n",
       "   Середній дохід населення  Населення середнє  Прогулянкова зона  \\\n",
       "0                      1.00               0.00               0.00   \n",
       "1                      0.98               0.11               0.11   \n",
       "2                      1.00               1.00               0.53   \n",
       "\n",
       "   Якість покриття перед магазином  Стихійна торгівля  Зона пікніка  Церква  \n",
       "0                             0.20               0.10          0.00    0.00  \n",
       "1                             0.11               0.09          0.05    0.09  \n",
       "2                             0.07               0.13          0.07    0.13  "
      ]
     },
     "execution_count": 58,
     "metadata": {},
     "output_type": "execute_result"
    }
   ],
   "source": [
    "# Fitting K-Means to the dataset\n",
    "km = KMeans(n_clusters = 3, init = 'k-means++', random_state = 0).fit_predict(df)\n",
    "kms = KMeans(n_clusters = 3, random_state = 0).fit(df)\n",
    "pd.DataFrame(kms.cluster_centers_, columns = df.columns).round(2)"
   ]
  },
  {
   "cell_type": "markdown",
   "id": "7f467c41",
   "metadata": {},
   "source": [
    "# Feature Reduction"
   ]
  },
  {
   "cell_type": "code",
   "execution_count": 59,
   "id": "e4a367ca",
   "metadata": {},
   "outputs": [],
   "source": [
    "X = df.iloc[:, [0, 5, 6]]"
   ]
  },
  {
   "cell_type": "code",
   "execution_count": 60,
   "id": "038397d3",
   "metadata": {},
   "outputs": [
    {
     "data": {
      "text/html": [
       "<div>\n",
       "<style scoped>\n",
       "    .dataframe tbody tr th:only-of-type {\n",
       "        vertical-align: middle;\n",
       "    }\n",
       "\n",
       "    .dataframe tbody tr th {\n",
       "        vertical-align: top;\n",
       "    }\n",
       "\n",
       "    .dataframe thead th {\n",
       "        text-align: right;\n",
       "    }\n",
       "</style>\n",
       "<table border=\"1\" class=\"dataframe\">\n",
       "  <thead>\n",
       "    <tr style=\"text-align: right;\">\n",
       "      <th></th>\n",
       "      <th>Успех</th>\n",
       "      <th>Количество чеков</th>\n",
       "      <th>Количество касс</th>\n",
       "    </tr>\n",
       "  </thead>\n",
       "  <tbody>\n",
       "    <tr>\n",
       "      <th>0</th>\n",
       "      <td>0.0</td>\n",
       "      <td>0.0</td>\n",
       "      <td>0.0</td>\n",
       "    </tr>\n",
       "    <tr>\n",
       "      <th>1</th>\n",
       "      <td>1.0</td>\n",
       "      <td>1.0</td>\n",
       "      <td>1.0</td>\n",
       "    </tr>\n",
       "  </tbody>\n",
       "</table>\n",
       "</div>"
      ],
      "text/plain": [
       "   Успех  Количество чеков  Количество касс\n",
       "0    0.0               0.0              0.0\n",
       "1    1.0               1.0              1.0"
      ]
     },
     "execution_count": 60,
     "metadata": {},
     "output_type": "execute_result"
    }
   ],
   "source": [
    "# Fitting K-Means to the dataset\n",
    "km = KMeans(n_clusters = 2, init = 'k-means++', random_state = 0).fit_predict(X)\n",
    "kms = KMeans(n_clusters = 2, random_state = 0).fit(X)\n",
    "pd.DataFrame(kms.cluster_centers_, columns = ['Успех','Количество чеков','Количество касс']).round()"
   ]
  },
  {
   "cell_type": "markdown",
   "id": "f8fd0327",
   "metadata": {},
   "source": [
    "Мы наглядно видим что данные разбились на два четких класса. Один успешный другой же нет"
   ]
  },
  {
   "cell_type": "markdown",
   "id": "32a93128",
   "metadata": {},
   "source": [
    "# Results matching"
   ]
  },
  {
   "cell_type": "code",
   "execution_count": 61,
   "id": "c5951cbb",
   "metadata": {},
   "outputs": [],
   "source": [
    "# Importing hc clusters\n",
    "import pickle\n",
    "input = open('clust.pkl', 'rb')\n",
    "obj = pickle.load(input)\n",
    "input.close()\n",
    "hc = obj[\"hc\"]"
   ]
  },
  {
   "cell_type": "code",
   "execution_count": 62,
   "id": "0cd03f8c",
   "metadata": {},
   "outputs": [
    {
     "data": {
      "text/plain": [
       "0.826"
      ]
     },
     "execution_count": 62,
     "metadata": {},
     "output_type": "execute_result"
    }
   ],
   "source": [
    "# Comparing Clustering Algorithms\n",
    "from sklearn.metrics.cluster import adjusted_rand_score\n",
    "adjusted_rand_score(hc,km).round(3)"
   ]
  },
  {
   "cell_type": "code",
   "execution_count": null,
   "id": "39f6c315",
   "metadata": {},
   "outputs": [],
   "source": []
  }
 ],
 "metadata": {
  "kernelspec": {
   "display_name": "Python 3 (ipykernel)",
   "language": "python",
   "name": "python3"
  },
  "language_info": {
   "codemirror_mode": {
    "name": "ipython",
    "version": 3
   },
   "file_extension": ".py",
   "mimetype": "text/x-python",
   "name": "python",
   "nbconvert_exporter": "python",
   "pygments_lexer": "ipython3",
   "version": "3.9.7"
  }
 },
 "nbformat": 4,
 "nbformat_minor": 5
}
